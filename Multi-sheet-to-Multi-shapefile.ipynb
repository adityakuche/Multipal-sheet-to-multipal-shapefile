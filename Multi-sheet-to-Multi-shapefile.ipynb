{
 "cells": [
  {
   "cell_type": "code",
   "execution_count": 1,
   "id": "d08e3ed2",
   "metadata": {},
   "outputs": [],
   "source": [
    "#Aim- To convert the multipal sheets in a excel workbook to the differebt shapefile formate with the help of Latitude and Longitude\n",
    "#with the name of the sheet_name itself\n",
    "import pandas as pd\n",
    "import geopandas as gpd"
   ]
  },
  {
   "cell_type": "code",
   "execution_count": null,
   "id": "b0daedca",
   "metadata": {},
   "outputs": [],
   "source": [
    "#importing the excel workbook which contain the multipal sheets\n",
    "ex_file= pd.ExcelFile(r\"C:\\Multisheet_excel.xlsx\")\n",
    "# for loop for getting all the sheets\n",
    "for sheet in ex_file.sheet_names:\n",
    "    df = pd.read_excel(ex_file,sheet_name=sheet)  #reding the excel from the path\n",
    "    # converting it into .csv with sheet_name and saving it in the provided path/location\n",
    "    df.to_csv(f\"C:/excel/{sheet}.csv\",index=False) \n",
    "    #creating GeoDataFrame for the latitude and Longitude\n",
    "    data_gdf = gpd.GeoDataFrame(df, geometry = gpd.points_from_xy(df['LONGITUDE'], df['LATITUDE']))\n",
    "    #converting and saving the .shp file to path/location\n",
    "    #if you want some other projection go forwar to use the data_gdf.to_crs('EPSG:4326')\n",
    "    data_gdf.to_file(filename=f\"C:/excel/{sheet}.shp\", driver = 'ESRI Shapefile')\n",
    "   "
   ]
  },
  {
   "cell_type": "code",
   "execution_count": null,
   "id": "5492d7ee",
   "metadata": {},
   "outputs": [],
   "source": []
  }
 ],
 "metadata": {
  "kernelspec": {
   "display_name": "Python 3 (ipykernel)",
   "language": "python",
   "name": "python3"
  },
  "language_info": {
   "codemirror_mode": {
    "name": "ipython",
    "version": 3
   },
   "file_extension": ".py",
   "mimetype": "text/x-python",
   "name": "python",
   "nbconvert_exporter": "python",
   "pygments_lexer": "ipython3",
   "version": "3.10.4"
  }
 },
 "nbformat": 4,
 "nbformat_minor": 5
}
